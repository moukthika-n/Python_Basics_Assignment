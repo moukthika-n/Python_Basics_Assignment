{
  "nbformat": 4,
  "nbformat_minor": 0,
  "metadata": {
    "colab": {
      "provenance": [],
      "include_colab_link": true
    },
    "kernelspec": {
      "name": "python3",
      "display_name": "Python 3"
    },
    "language_info": {
      "name": "python"
    }
  },
  "cells": [
    {
      "cell_type": "markdown",
      "metadata": {
        "id": "view-in-github",
        "colab_type": "text"
      },
      "source": [
        "<a href=\"https://colab.research.google.com/github/moukthika-n/Python_Basics_Assignment/blob/main/Python_Basics_Assignment.ipynb\" target=\"_parent\"><img src=\"https://colab.research.google.com/assets/colab-badge.svg\" alt=\"Open In Colab\"/></a>"
      ]
    },
    {
      "cell_type": "markdown",
      "source": [
        "## **1. Explain the key features of Python that make it a popular choice for programming.**"
      ],
      "metadata": {
        "id": "19TLGtgxj4yk"
      }
    },
    {
      "cell_type": "markdown",
      "source": [
        "Python is popular because it’s easy to read and write, with a syntax that feels natural, making it great for beginners and efficient for experienced programmers. It supports multiple programming styles like object-oriented, procedural, and functional, which makes it flexible for various types of projects. Python has a vast standard library and many external packages, so you can quickly add functionality without writing everything from scratch. It's also cross-platform, meaning code written in Python can run on different operating systems. Plus, the large community means there’s a lot of support, and it’s widely used in fields like web development, data science, AI, and automation, so it opens up lots of career opportunities."
      ],
      "metadata": {
        "id": "Z7J7pjRsjWBZ"
      }
    },
    {
      "cell_type": "markdown",
      "source": [
        "## **2. Describe the role of predefined keywords in Python and provide examples of how they are used in a program.**"
      ],
      "metadata": {
        "id": "od4t314zkUuh"
      }
    },
    {
      "cell_type": "markdown",
      "source": [
        "Predefined keywords in Python are reserved words that have special meanings and functions in the language. They’re essential because they help define the structure and flow of a Python program. Keywords are case-sensitive and cannot be used as variable names, as this would confuse the interpreter."
      ],
      "metadata": {
        "id": "oASBzRu9loSO"
      }
    },
    {
      "cell_type": "code",
      "source": [
        "# To get the list of pre-defined keywords in python\n",
        "help('keywords')"
      ],
      "metadata": {
        "colab": {
          "base_uri": "https://localhost:8080/"
        },
        "id": "qhIzG_bPl47z",
        "outputId": "044e26f7-7d2f-44fc-dc55-3a2e6d7bc1e8"
      },
      "execution_count": null,
      "outputs": [
        {
          "output_type": "stream",
          "name": "stdout",
          "text": [
            "\n",
            "Here is a list of the Python keywords.  Enter any keyword to get more help.\n",
            "\n",
            "False               class               from                or\n",
            "None                continue            global              pass\n",
            "True                def                 if                  raise\n",
            "and                 del                 import              return\n",
            "as                  elif                in                  try\n",
            "assert              else                is                  while\n",
            "async               except              lambda              with\n",
            "await               finally             nonlocal            yield\n",
            "break               for                 not                 \n",
            "\n"
          ]
        }
      ]
    },
    {
      "cell_type": "code",
      "source": [
        "# if, elif, else – These control the flow of the program by allowing conditional branching.\n",
        "# For example:\n",
        "x = 10\n",
        "if x > 5:\n",
        "    print(\"x is greater than 5\")\n",
        "elif x == 5:\n",
        "    print(\"x is 5\")\n",
        "else:\n",
        "    print(\"x is less than 5\")\n"
      ],
      "metadata": {
        "colab": {
          "base_uri": "https://localhost:8080/"
        },
        "id": "qnhJpmMtmIep",
        "outputId": "837220ab-22a7-4bc7-e09d-9f1122f2d5f8"
      },
      "execution_count": null,
      "outputs": [
        {
          "output_type": "stream",
          "name": "stdout",
          "text": [
            "x is greater than 5\n"
          ]
        }
      ]
    },
    {
      "cell_type": "code",
      "source": [
        "# for, while – Used for loops, which allow repeated execution of code blocks.\n",
        "# For example:\n",
        "for i in range(5):\n",
        "    print(i)"
      ],
      "metadata": {
        "colab": {
          "base_uri": "https://localhost:8080/"
        },
        "id": "kFMV29qHmb2K",
        "outputId": "e15681aa-5bdc-4334-fb96-344631909a30"
      },
      "execution_count": null,
      "outputs": [
        {
          "output_type": "stream",
          "name": "stdout",
          "text": [
            "0\n",
            "1\n",
            "2\n",
            "3\n",
            "4\n"
          ]
        }
      ]
    },
    {
      "cell_type": "markdown",
      "source": [
        "## **3. Compare and contrast mutable and immutable objects in Python with examples.**"
      ],
      "metadata": {
        "id": "hWvLXM1AkLHu"
      }
    },
    {
      "cell_type": "markdown",
      "source": [
        "In Python, mutable objects can be modified after they are created, meaning their content or state can be changed. Examples include lists, dictionaries, and sets. These objects retain their memory address even when modified. Immutable objects, on the other hand, cannot be changed once they are created. Any attempt to modify them results in the creation of a new object, with a new memory address. Examples of immutable objects are strings, tuples, and integers. The key difference is that mutable objects can be altered in place, whereas immutable objects cannot, requiring new instances for modifications. This distinction influences memory usage and performance in certain applications."
      ],
      "metadata": {
        "id": "CWott6Pkm1DH"
      }
    },
    {
      "cell_type": "code",
      "source": [
        "# Example of mutable objects - list\n",
        "list1 = [1, 2, 3]\n",
        "list1[0] = 100\n",
        "list1[-1] = 1000\n",
        "list1"
      ],
      "metadata": {
        "colab": {
          "base_uri": "https://localhost:8080/"
        },
        "id": "YM7x4_tym3f8",
        "outputId": "3de914b3-5916-4205-b7e0-f5540b0c10b8"
      },
      "execution_count": null,
      "outputs": [
        {
          "output_type": "execute_result",
          "data": {
            "text/plain": [
              "[100, 2, 1000]"
            ]
          },
          "metadata": {},
          "execution_count": 4
        }
      ]
    },
    {
      "cell_type": "code",
      "source": [
        "# Example of immutable objects - string\n",
        "str1 = \"hello\"\n",
        "str1[0] = \"H\"\n",
        "str1"
      ],
      "metadata": {
        "colab": {
          "base_uri": "https://localhost:8080/",
          "height": 193
        },
        "id": "BcQq_4qmnFEO",
        "outputId": "6f3245e8-0832-4a75-da87-877da45f6d7a"
      },
      "execution_count": null,
      "outputs": [
        {
          "output_type": "error",
          "ename": "TypeError",
          "evalue": "'str' object does not support item assignment",
          "traceback": [
            "\u001b[0;31m---------------------------------------------------------------------------\u001b[0m",
            "\u001b[0;31mTypeError\u001b[0m                                 Traceback (most recent call last)",
            "\u001b[0;32m<ipython-input-5-48c58adc1793>\u001b[0m in \u001b[0;36m<cell line: 3>\u001b[0;34m()\u001b[0m\n\u001b[1;32m      1\u001b[0m \u001b[0;31m# Example of immutable objects - string\u001b[0m\u001b[0;34m\u001b[0m\u001b[0;34m\u001b[0m\u001b[0m\n\u001b[1;32m      2\u001b[0m \u001b[0mstr1\u001b[0m \u001b[0;34m=\u001b[0m \u001b[0;34m\"hello\"\u001b[0m\u001b[0;34m\u001b[0m\u001b[0;34m\u001b[0m\u001b[0m\n\u001b[0;32m----> 3\u001b[0;31m \u001b[0mstr1\u001b[0m\u001b[0;34m[\u001b[0m\u001b[0;36m0\u001b[0m\u001b[0;34m]\u001b[0m \u001b[0;34m=\u001b[0m \u001b[0;34m\"H\"\u001b[0m\u001b[0;34m\u001b[0m\u001b[0;34m\u001b[0m\u001b[0m\n\u001b[0m\u001b[1;32m      4\u001b[0m \u001b[0mstr1\u001b[0m\u001b[0;34m\u001b[0m\u001b[0;34m\u001b[0m\u001b[0m\n",
            "\u001b[0;31mTypeError\u001b[0m: 'str' object does not support item assignment"
          ]
        }
      ]
    },
    {
      "cell_type": "markdown",
      "source": [
        "## **4. Discuss the different types of operators in Python and provide examples of how they are used.**"
      ],
      "metadata": {
        "id": "2yNkUXSCkn7N"
      }
    },
    {
      "cell_type": "markdown",
      "source": [
        "Python has several types of operators, each performing specific operations on variables or values. The main types include arithmetic, comparison, logical, assignment, bitwise, membership, and identity operators."
      ],
      "metadata": {
        "id": "zzL-KFBxnZ1l"
      }
    },
    {
      "cell_type": "code",
      "source": [
        "# 1.Arithmetic Operators: These operators perform basic arithmetic operations like addition, subtraction, multiplication, etc.\n",
        "# Examples\n",
        "x = 10\n",
        "y = 5\n",
        "print(x + y)  # Output: 15 (addition)\n",
        "print(x - y)  # Output: 5 (subtraction)\n",
        "print(x * y)  # Output: 50 (multiplication)\n",
        "print(x / y)  # Output: 2.0 (division)\n",
        "print(x % y)  # Output: 0 (modulus)\n",
        "print(x ** y)  # Output: 100000 (exponentiation)\n",
        "print(x // y)  # Output: 2 (floor division)"
      ],
      "metadata": {
        "colab": {
          "base_uri": "https://localhost:8080/"
        },
        "id": "mEfs4BGknbCE",
        "outputId": "6eda5256-00be-4016-9043-84f662ecc19c"
      },
      "execution_count": null,
      "outputs": [
        {
          "output_type": "stream",
          "name": "stdout",
          "text": [
            "15\n",
            "5\n",
            "50\n",
            "2.0\n",
            "0\n",
            "100000\n",
            "2\n"
          ]
        }
      ]
    },
    {
      "cell_type": "code",
      "source": [
        "# 2. Comparison Operators: These operators compare values and return a Boolean result (True or False).\n",
        "# Examples\n",
        "x = 10\n",
        "y = 5\n",
        "print(x == y)  # Output: False (equal to)\n",
        "print(x != y)  # Output: True (not equal to)\n",
        "print(x > y)   # Output: True (greater than)\n",
        "print(x < y)   # Output: False (less than)\n",
        "print(x >= y)  # Output: True (greater than or equal to)\n",
        "print(x <= y)  # Output: False (less than or equal to)\n"
      ],
      "metadata": {
        "colab": {
          "base_uri": "https://localhost:8080/"
        },
        "id": "ay6M8hqqnp7h",
        "outputId": "feb00446-8b3e-4b64-f670-533e99cd844f"
      },
      "execution_count": null,
      "outputs": [
        {
          "output_type": "stream",
          "name": "stdout",
          "text": [
            "False\n",
            "True\n",
            "True\n",
            "False\n",
            "True\n",
            "False\n"
          ]
        }
      ]
    },
    {
      "cell_type": "code",
      "source": [
        "# 3. Logical Operators: These operators combine conditional statements and return a Boolean value based on logical conditions.\n",
        "# Examples\n",
        "x = 10\n",
        "y = 5\n",
        "print(x > 5 and y < 10)  # Output: True (both conditions are true)\n",
        "print(x > 5 or y > 10)   # Output: True (one condition is true)\n",
        "print(not(x > 5))        # Output: False (negation)\n"
      ],
      "metadata": {
        "colab": {
          "base_uri": "https://localhost:8080/"
        },
        "id": "1SIcDS7Kn4mB",
        "outputId": "e1719ac9-441b-461e-d742-cb4e3bee6b2e"
      },
      "execution_count": null,
      "outputs": [
        {
          "output_type": "stream",
          "name": "stdout",
          "text": [
            "True\n",
            "True\n",
            "False\n"
          ]
        }
      ]
    },
    {
      "cell_type": "code",
      "source": [
        "# 4. Assignment Operators: These operators assign values to variables.\n",
        "# Examples\n",
        "x = 10\n",
        "x += 5  # Equivalent to x = x + 5, Output: 15\n",
        "print(x)\n",
        "x -= 3  # Equivalent to x = x - 3, Output: 12\n",
        "print(x)\n",
        "x *= 2  # Equivalent to x = x * 2, Output: 24\n",
        "print(x)\n",
        "x /= 4  # Equivalent to x = x / 4, Output: 6.0\n",
        "print(x)\n"
      ],
      "metadata": {
        "colab": {
          "base_uri": "https://localhost:8080/"
        },
        "id": "mG1WVQmEn9Mm",
        "outputId": "296adeb1-4139-46cc-9b27-8509e7454a49"
      },
      "execution_count": null,
      "outputs": [
        {
          "output_type": "stream",
          "name": "stdout",
          "text": [
            "15\n",
            "12\n",
            "24\n",
            "6.0\n"
          ]
        }
      ]
    },
    {
      "cell_type": "code",
      "source": [
        "# 5. Bitwise Operators: These operators perform operations on the binary representation of integers.\n",
        "# Examples\n",
        "x = 10  # 1010 in binary\n",
        "y = 4   # 0100 in binary\n",
        "print(x & y)  # Output: 0 (AND operation)\n",
        "print(x | y)  # Output: 14 (OR operation)\n",
        "print(x ^ y)  # Output: 14 (XOR operation)\n",
        "print(~x)     # Output: -11 (NOT operation)\n",
        "print(x << 1) # Output: 20 (Left shift)\n",
        "print(x >> 1) # Output: 5  (Right shift)\n"
      ],
      "metadata": {
        "colab": {
          "base_uri": "https://localhost:8080/"
        },
        "id": "yWNB4z1UoLkI",
        "outputId": "90f6a1bc-bf41-4873-fc2d-3207ed14c392"
      },
      "execution_count": null,
      "outputs": [
        {
          "output_type": "stream",
          "name": "stdout",
          "text": [
            "0\n",
            "14\n",
            "14\n",
            "-11\n",
            "20\n",
            "5\n"
          ]
        }
      ]
    },
    {
      "cell_type": "code",
      "source": [
        "# 6. Membership Operators: These operators test whether a value is present in a sequence (like a list, string, or tuple).\n",
        "# Examples\n",
        "x = [1, 2, 3, 4, 5]\n",
        "print(3 in x)  # Output: True (3 is in the list)\n",
        "print(6 not in x)  # Output: True (6 is not in the list)\n"
      ],
      "metadata": {
        "colab": {
          "base_uri": "https://localhost:8080/"
        },
        "id": "B3zryafmoTnN",
        "outputId": "5c7f6814-bdc8-4cc3-8db2-8f5fc4830ddf"
      },
      "execution_count": null,
      "outputs": [
        {
          "output_type": "stream",
          "name": "stdout",
          "text": [
            "True\n",
            "True\n"
          ]
        }
      ]
    },
    {
      "cell_type": "code",
      "source": [
        "# 7. Identity Operators: These operators check whether two objects are the same or not.\n",
        "# Examples\n",
        "x = [1, 2, 3]\n",
        "y = [1, 2, 3]\n",
        "z = x\n",
        "print(x is z)  # Output: True (x and z refer to the same object)\n",
        "print(x is y)  # Output: False (x and y refer to different objects)\n",
        "print(x is not y)  # Output: True"
      ],
      "metadata": {
        "colab": {
          "base_uri": "https://localhost:8080/"
        },
        "id": "5OMjjoyCoZnN",
        "outputId": "41249f1f-88fc-4f92-d9be-80349b8d576c"
      },
      "execution_count": null,
      "outputs": [
        {
          "output_type": "stream",
          "name": "stdout",
          "text": [
            "True\n",
            "False\n",
            "True\n"
          ]
        }
      ]
    },
    {
      "cell_type": "markdown",
      "source": [
        "## **5. Explain the concept of type casting in Python with examples.**"
      ],
      "metadata": {
        "id": "44UuHUlDkt7T"
      }
    },
    {
      "cell_type": "markdown",
      "source": [
        "Type casting in Python refers to the process of converting one data type into another. This can be done explicitly or implicitly. Explicit type casting is when you manually convert a variable from one type to another using Python's built-in functions, while implicit type casting happens automatically when Python converts a value to a compatible type."
      ],
      "metadata": {
        "id": "vmBqN_cjopHi"
      }
    },
    {
      "cell_type": "markdown",
      "source": [
        "**Implicit Type Casting:**\n",
        "Python automatically converts one data type to another when it's necessary, such as when performing operations with different data types. This usually happens when you combine data types that can be safely converted."
      ],
      "metadata": {
        "id": "-AYlY0bloqkZ"
      }
    },
    {
      "cell_type": "code",
      "source": [
        "# Example\n",
        "x = 5      # int\n",
        "y = 2.5    # float\n",
        "result = x + y  # Python automatically converts x to float\n",
        "print(result)  # Output: 7.5 (float)\n",
        "\n",
        "#In this case, the integer x is implicitly converted to a float before performing the addition."
      ],
      "metadata": {
        "colab": {
          "base_uri": "https://localhost:8080/"
        },
        "id": "xCxxAtjqoxju",
        "outputId": "7c408f13-e4dc-4203-f80c-7e0a4b239f60"
      },
      "execution_count": null,
      "outputs": [
        {
          "output_type": "stream",
          "name": "stdout",
          "text": [
            "7.5\n"
          ]
        }
      ]
    },
    {
      "cell_type": "markdown",
      "source": [
        "**Explicit Type Casting:**\n",
        "Explicit type casting, also called type conversion, happens when you manually convert one data type to another using functions like int(), float(), str(), etc."
      ],
      "metadata": {
        "id": "K7CP3pDkot3J"
      }
    },
    {
      "cell_type": "code",
      "source": [
        "# Example\n",
        "# 1. Converting from int to float:\n",
        "x = 10\n",
        "y = float(x)  # Converts int to float\n",
        "print(y)  # Output: 10.0 (float)"
      ],
      "metadata": {
        "colab": {
          "base_uri": "https://localhost:8080/"
        },
        "id": "cdHMfMEUoKGc",
        "outputId": "9d5b87d6-cb58-43e0-da65-e970a2e271bf"
      },
      "execution_count": null,
      "outputs": [
        {
          "output_type": "stream",
          "name": "stdout",
          "text": [
            "10.0\n"
          ]
        }
      ]
    },
    {
      "cell_type": "code",
      "source": [
        "# Example\n",
        "# 2. Converting from float to int:\n",
        "x = 10.75\n",
        "y = int(x)  # Converts float to int (truncates the decimal part)\n",
        "print(y)  # Output: 10 (int)"
      ],
      "metadata": {
        "colab": {
          "base_uri": "https://localhost:8080/"
        },
        "id": "-Hoq2CnJn1yi",
        "outputId": "37e0c6a0-d401-4fc2-b4c0-cc84fbfdff68"
      },
      "execution_count": null,
      "outputs": [
        {
          "output_type": "stream",
          "name": "stdout",
          "text": [
            "10\n"
          ]
        }
      ]
    },
    {
      "cell_type": "code",
      "source": [
        "# Example\n",
        "# 3. Converting from int to string:\n",
        "x = 100\n",
        "y = str(x)  # Converts int to string\n",
        "print(y)  # Output: \"100\" (string)"
      ],
      "metadata": {
        "colab": {
          "base_uri": "https://localhost:8080/"
        },
        "id": "MxnDtz8DpEsh",
        "outputId": "4f11ebdc-7bbf-4c8a-8e32-355fa9c0a114"
      },
      "execution_count": null,
      "outputs": [
        {
          "output_type": "stream",
          "name": "stdout",
          "text": [
            "100\n"
          ]
        }
      ]
    },
    {
      "cell_type": "code",
      "source": [
        "# Example\n",
        "# 4. Converting from string to int (if the string represents a valid integer):\n",
        "x = \"123\"\n",
        "y = int(x)  # Converts string to int\n",
        "print(y)  # Output: 123 (int)"
      ],
      "metadata": {
        "colab": {
          "base_uri": "https://localhost:8080/"
        },
        "id": "3A4oCfLrpHhh",
        "outputId": "3742575d-509c-49f7-b9b4-076e90ead076"
      },
      "execution_count": null,
      "outputs": [
        {
          "output_type": "stream",
          "name": "stdout",
          "text": [
            "123\n"
          ]
        }
      ]
    },
    {
      "cell_type": "code",
      "source": [
        "# Example\n",
        "# 5. Converting from string to float:\n",
        "x = \"3.14\"\n",
        "y = float(x)  # Converts string to float\n",
        "print(y)  # Output: 3.14 (float)"
      ],
      "metadata": {
        "colab": {
          "base_uri": "https://localhost:8080/"
        },
        "id": "Y_S4xO4KpIEG",
        "outputId": "fea7ece6-ea8a-4dd0-f74f-0772d274cc2b"
      },
      "execution_count": null,
      "outputs": [
        {
          "output_type": "stream",
          "name": "stdout",
          "text": [
            "3.14\n"
          ]
        }
      ]
    },
    {
      "cell_type": "markdown",
      "source": [
        "**Type Conversion Limitations:**\n",
        "Trying to convert a string that doesn’t represent a number (e.g., \"abc\") to an integer or float will result in a ValueError."
      ],
      "metadata": {
        "id": "8ctWM3TfpgMy"
      }
    },
    {
      "cell_type": "code",
      "source": [
        "# Example\n",
        "x = \"abc\"\n",
        "y = int(x)  # Will raise ValueError"
      ],
      "metadata": {
        "colab": {
          "base_uri": "https://localhost:8080/",
          "height": 176
        },
        "id": "5glvEAHqpiGz",
        "outputId": "9e8c94c4-40d4-48b8-8734-95a7d452b435"
      },
      "execution_count": null,
      "outputs": [
        {
          "output_type": "error",
          "ename": "ValueError",
          "evalue": "invalid literal for int() with base 10: 'abc'",
          "traceback": [
            "\u001b[0;31m---------------------------------------------------------------------------\u001b[0m",
            "\u001b[0;31mValueError\u001b[0m                                Traceback (most recent call last)",
            "\u001b[0;32m<ipython-input-20-2a55cb75fb15>\u001b[0m in \u001b[0;36m<cell line: 3>\u001b[0;34m()\u001b[0m\n\u001b[1;32m      1\u001b[0m \u001b[0;31m# Example\u001b[0m\u001b[0;34m\u001b[0m\u001b[0;34m\u001b[0m\u001b[0m\n\u001b[1;32m      2\u001b[0m \u001b[0mx\u001b[0m \u001b[0;34m=\u001b[0m \u001b[0;34m\"abc\"\u001b[0m\u001b[0;34m\u001b[0m\u001b[0;34m\u001b[0m\u001b[0m\n\u001b[0;32m----> 3\u001b[0;31m \u001b[0my\u001b[0m \u001b[0;34m=\u001b[0m \u001b[0mint\u001b[0m\u001b[0;34m(\u001b[0m\u001b[0mx\u001b[0m\u001b[0;34m)\u001b[0m  \u001b[0;31m# Will raise ValueError\u001b[0m\u001b[0;34m\u001b[0m\u001b[0;34m\u001b[0m\u001b[0m\n\u001b[0m",
            "\u001b[0;31mValueError\u001b[0m: invalid literal for int() with base 10: 'abc'"
          ]
        }
      ]
    },
    {
      "cell_type": "markdown",
      "source": [
        "## **6. How do conditional statements work in Python? Illustrate with examples.**"
      ],
      "metadata": {
        "id": "WFH2liYrkz4Y"
      }
    },
    {
      "cell_type": "markdown",
      "source": [
        "Conditional statements in Python allow a program to make decisions based on certain conditions, using statements like if, elif, and else. These statements evaluate a condition (an expression that returns True or False) and execute the associated block of code only if the condition is True. Conditional statements are fundamental for control flow, allowing programs to make decisions, execute specific actions based on conditions, and handle different situations effectively."
      ],
      "metadata": {
        "id": "rR5gW8hSp1T1"
      }
    },
    {
      "cell_type": "code",
      "source": [
        "# if Statement\n",
        "# The if statement checks a condition and executes the block of code indented beneath it if the condition is True.\n",
        "\n",
        "# Example\n",
        "x = 10\n",
        "if x > 5:\n",
        "    print(\"x is greater than 5\")  # Output: x is greater than 5"
      ],
      "metadata": {
        "colab": {
          "base_uri": "https://localhost:8080/"
        },
        "id": "PyGnrbsAp4rq",
        "outputId": "a313d264-c912-4454-b48e-f676ccdb3ef9"
      },
      "execution_count": null,
      "outputs": [
        {
          "output_type": "stream",
          "name": "stdout",
          "text": [
            "x is greater than 5\n"
          ]
        }
      ]
    },
    {
      "cell_type": "code",
      "source": [
        "# if-else Statement\n",
        "# The if-else structure allows for an alternative action if the if condition is False.\n",
        "\n",
        "# Example\n",
        "x = 3\n",
        "if x > 5:\n",
        "    print(\"x is greater than 5\")\n",
        "else:\n",
        "    print(\"x is not greater than 5\")  # Output: x is not greater than 5"
      ],
      "metadata": {
        "colab": {
          "base_uri": "https://localhost:8080/"
        },
        "id": "9-nubDeyp_XG",
        "outputId": "6ecc5df6-92f1-4198-f861-94fab6f744e4"
      },
      "execution_count": null,
      "outputs": [
        {
          "output_type": "stream",
          "name": "stdout",
          "text": [
            "x is not greater than 5\n"
          ]
        }
      ]
    },
    {
      "cell_type": "code",
      "source": [
        "# if-elif-else Statement\n",
        "# The if-elif-else structure allows checking multiple conditions. Once a condition is True, the corresponding block of code is executed, and the remaining conditions are ignored.\n",
        "\n",
        "# Example\n",
        "x = 7\n",
        "if x > 10:\n",
        "    print(\"x is greater than 10\")\n",
        "elif x > 5:\n",
        "    print(\"x is greater than 5 but less than or equal to 10\")  # Output: x is greater than 5 but less than or equal to 10\n",
        "else:\n",
        "    print(\"x is 5 or less\")"
      ],
      "metadata": {
        "colab": {
          "base_uri": "https://localhost:8080/"
        },
        "id": "jJiF9571qJ3e",
        "outputId": "9dedbcda-258d-4191-f0e6-66695e8c07a7"
      },
      "execution_count": null,
      "outputs": [
        {
          "output_type": "stream",
          "name": "stdout",
          "text": [
            "x is greater than 5 but less than or equal to 10\n"
          ]
        }
      ]
    },
    {
      "cell_type": "code",
      "source": [
        "# Nested if Statements\n",
        "# Conditional statements can be nested, meaning you can place one if statement inside another to handle more complex logic.\n",
        "\n",
        "# Example\n",
        "x = 12\n",
        "if x > 10:\n",
        "    print(\"x is greater than 10\")\n",
        "    if x % 2 == 0:\n",
        "        print(\"x is also an even number\")  # Output: x is greater than 10, x is also an even number\n",
        "    else:\n",
        "        print(\"x is an odd number\")"
      ],
      "metadata": {
        "colab": {
          "base_uri": "https://localhost:8080/"
        },
        "id": "GsGlwBUuqQP4",
        "outputId": "3d92c29d-6827-41b0-95fe-a5f33f2772b3"
      },
      "execution_count": null,
      "outputs": [
        {
          "output_type": "stream",
          "name": "stdout",
          "text": [
            "x is greater than 10\n",
            "x is also an even number\n"
          ]
        }
      ]
    },
    {
      "cell_type": "markdown",
      "source": [
        "##**7. Describe the different types of loops in Python and their use cases with examples.**"
      ],
      "metadata": {
        "id": "zaYQEqd6lO-a"
      }
    },
    {
      "cell_type": "markdown",
      "source": [
        "Python provides two main types of loops: for loops and while loops. These loops allow repeated execution of code blocks, making it easy to perform repetitive tasks."
      ],
      "metadata": {
        "id": "aou5XxqVqqGu"
      }
    },
    {
      "cell_type": "markdown",
      "source": [
        "**for Loop**:\n",
        "\n",
        "The for loop iterates over a sequence (like a list, tuple, dictionary, set, or string) and executes the code block for each element in the sequence. It’s typically used when the number of iterations is known or when you need to iterate through items in a collection.\n",
        "\n",
        "**Use Cases for for Loop:**\n",
        "\n",
        "1. Iterating through items in a list, tuple, or dictionary.\n",
        "2. Repeating a task a specified number of times.\n",
        "3. Iterating through a sequence of numbers with range()."
      ],
      "metadata": {
        "id": "vzy5YOPAqtWA"
      }
    },
    {
      "cell_type": "code",
      "source": [
        "# Example\n",
        "# Looping through a list\n",
        "fruits = [\"apple\", \"banana\", \"cherry\"]\n",
        "for fruit in fruits:\n",
        "    print(fruit)\n",
        "# Output:\n",
        "# apple\n",
        "# banana\n",
        "# cherry\n",
        "\n",
        "# Looping through a range of numbers\n",
        "for i in range(1, 6):\n",
        "    print(i)\n",
        "# Output:\n",
        "# 1\n",
        "# 2\n",
        "# 3\n",
        "# 4\n",
        "# 5"
      ],
      "metadata": {
        "colab": {
          "base_uri": "https://localhost:8080/"
        },
        "id": "aUpFpRi-rNaV",
        "outputId": "ec56d75e-11f2-48af-9bd4-253f9f3c8002"
      },
      "execution_count": null,
      "outputs": [
        {
          "output_type": "stream",
          "name": "stdout",
          "text": [
            "apple\n",
            "banana\n",
            "cherry\n",
            "1\n",
            "2\n",
            "3\n",
            "4\n",
            "5\n"
          ]
        }
      ]
    },
    {
      "cell_type": "markdown",
      "source": [
        "**while Loop**:\n",
        "\n",
        "The while loop continues to execute as long as a specified condition is True. It’s commonly used when the number of iterations isn’t known beforehand and depends on a certain condition being met.\n",
        "\n",
        "**Use Cases for while Loop:**\n",
        "\n",
        "1. Running a loop until a specific condition is met.\n",
        "2. Waiting for a user to perform a specific action.\n",
        "3. Executing code that requires continuous checking (like in games or real-time applications)."
      ],
      "metadata": {
        "id": "GSHi2gBcq6Tr"
      }
    },
    {
      "cell_type": "code",
      "source": [
        "# Example\n",
        "count = 1\n",
        "while count <= 5:\n",
        "    print(count)\n",
        "    count += 1\n",
        "# Output:\n",
        "# 1\n",
        "# 2\n",
        "# 3\n",
        "# 4\n",
        "# 5\n"
      ],
      "metadata": {
        "colab": {
          "base_uri": "https://localhost:8080/"
        },
        "id": "Oz4JM4j3rSG9",
        "outputId": "0cf8e41c-f4c9-4b36-9203-7ab772067b6c"
      },
      "execution_count": null,
      "outputs": [
        {
          "output_type": "stream",
          "name": "stdout",
          "text": [
            "1\n",
            "2\n",
            "3\n",
            "4\n",
            "5\n"
          ]
        }
      ]
    },
    {
      "cell_type": "code",
      "source": [
        "# Nested Loops\n",
        "# You can also nest loops, meaning placing one loop inside another, to handle multi-dimensional data or more complex repetitive tasks.\n",
        "\n",
        "# Example\n",
        "# Print a 3x3 grid\n",
        "for i in range(1, 4):\n",
        "    for j in range(1, 4):\n",
        "        print(i, j)\n",
        "# Output:\n",
        "# 1 1\n",
        "# 1 2\n",
        "# 1 3\n",
        "# 2 1\n",
        "# 2 2\n",
        "# 2 3\n",
        "# 3 1\n",
        "# 3 2\n",
        "# 3 3"
      ],
      "metadata": {
        "colab": {
          "base_uri": "https://localhost:8080/"
        },
        "id": "RACdAFwhrVuq",
        "outputId": "fbee671c-0ac0-46e4-e183-45c7988dc75b"
      },
      "execution_count": null,
      "outputs": [
        {
          "output_type": "stream",
          "name": "stdout",
          "text": [
            "1 1\n",
            "1 2\n",
            "1 3\n",
            "2 1\n",
            "2 2\n",
            "2 3\n",
            "3 1\n",
            "3 2\n",
            "3 3\n"
          ]
        }
      ]
    },
    {
      "cell_type": "markdown",
      "source": [
        "**break and continue in Loops:**\n",
        "\n",
        "**break:** Stops the loop completely.\n",
        "\n",
        "**continue:** Skips the current iteration and moves to the next."
      ],
      "metadata": {
        "id": "3huBKQ6brje1"
      }
    },
    {
      "cell_type": "code",
      "source": [
        "# Example\n",
        "# Using break\n",
        "for i in range(1, 6):\n",
        "    if i == 3:\n",
        "        break\n",
        "    print(i)  # Output: 1, 2\n",
        "\n",
        "# Using continue\n",
        "for i in range(1, 6):\n",
        "    if i == 3:\n",
        "        continue\n",
        "    print(i)  # Output: 1, 2, 4, 5\n"
      ],
      "metadata": {
        "colab": {
          "base_uri": "https://localhost:8080/"
        },
        "id": "OBo41wy5rgS2",
        "outputId": "bbbff7b5-39ae-4141-df85-f9f7d02dc38c"
      },
      "execution_count": null,
      "outputs": [
        {
          "output_type": "stream",
          "name": "stdout",
          "text": [
            "1\n",
            "2\n",
            "1\n",
            "2\n",
            "4\n",
            "5\n"
          ]
        }
      ]
    },
    {
      "cell_type": "code",
      "source": [],
      "metadata": {
        "id": "YDGOXN-UrrUA"
      },
      "execution_count": null,
      "outputs": []
    }
  ]
}